{
 "cells": [
  {
   "cell_type": "code",
   "execution_count": 2,
   "id": "18e482a2",
   "metadata": {},
   "outputs": [],
   "source": [
    "import torch\n",
    "import torch.nn as nn"
   ]
  },
  {
   "cell_type": "code",
   "execution_count": 8,
   "id": "f26fa81d",
   "metadata": {},
   "outputs": [
    {
     "name": "stdout",
     "output_type": "stream",
     "text": [
      "torch.Size([32, 20, 51])\n"
     ]
    }
   ],
   "source": [
    "cnn = nn.Conv1d(20, 20, kernel_size=2, padding=1)\n",
    "x = torch.randn(32, 20, 50)  # (batch_size, channels, sequence_length)\n",
    "output = cnn(x)\n",
    "print(output.shape)  # Should be (32, 20, 49) due to kernel_size=2 and no padding"
   ]
  },
  {
   "cell_type": "code",
   "execution_count": 13,
   "id": "5ca0cc56",
   "metadata": {},
   "outputs": [
    {
     "name": "stdout",
     "output_type": "stream",
     "text": [
      "torch.Size([5, 3, 10])\n",
      "torch.Size([2, 3, 20])\n",
      "torch.Size([2, 3, 20])\n",
      "torch.Size([5, 3, 40])\n",
      "torch.Size([2, 3, 20])\n",
      "torch.Size([2, 3, 20])\n"
     ]
    }
   ],
   "source": [
    "rnn = nn.LSTM(10, 20, 1, bidirectional=True)\n",
    "input = torch.randn(5, 3, 10)\n",
    "h0 = torch.randn(2, 3, 20)\n",
    "c0 = torch.randn(2, 3, 20)\n",
    "output, (hn, cn) = rnn(input, (h0, c0))\n",
    "\n",
    "print(input.shape)  # Should be (5, 3, 10)\n",
    "print(h0.shape)  # Should be (2, 3, 20) for bidirectional\n",
    "print(c0.shape)  # Should be (2, 3, 20) for bidirectional\n",
    "\n",
    "print(output.shape)  # Should be (5, 3, 40) due to bidirectional\n",
    "print(hn.shape)  # Should be (4, 3, 20) due to bidirectional\n",
    "print(cn.shape)  # Should be (4, 3,"
   ]
  }
 ],
 "metadata": {
  "kernelspec": {
   "display_name": "cs224n",
   "language": "python",
   "name": "python3"
  },
  "language_info": {
   "codemirror_mode": {
    "name": "ipython",
    "version": 3
   },
   "file_extension": ".py",
   "mimetype": "text/x-python",
   "name": "python",
   "nbconvert_exporter": "python",
   "pygments_lexer": "ipython3",
   "version": "3.12.11"
  }
 },
 "nbformat": 4,
 "nbformat_minor": 5
}
